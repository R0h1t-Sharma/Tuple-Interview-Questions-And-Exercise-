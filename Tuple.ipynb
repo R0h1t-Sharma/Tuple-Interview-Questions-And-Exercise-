{
 "cells": [
  {
   "cell_type": "markdown",
   "id": "8eeb46cd-0f39-406d-9bea-e622b714123c",
   "metadata": {},
   "source": [
    "### 1 Find the size of a Tuple in Python"
   ]
  },
  {
   "cell_type": "markdown",
   "id": "40ca3906-fc8b-4653-9053-408b611388e2",
   "metadata": {},
   "source": [
    "### https://interviewprep.org/tuples-interview-questions/"
   ]
  },
  {
   "cell_type": "code",
   "execution_count": 1,
   "id": "44bf0fb1-fef9-4c25-a3ea-103a109967d7",
   "metadata": {},
   "outputs": [
    {
     "name": "stdout",
     "output_type": "stream",
     "text": [
      "Size of the tuple: 5\n"
     ]
    }
   ],
   "source": [
    "# Define a tuple\n",
    "my_tuple = (1, 2, 3, 4, 5)\n",
    "\n",
    "# Find the size of the tuple\n",
    "tuple_size = len(my_tuple)\n",
    "\n",
    "print(\"Size of the tuple:\", tuple_size)\n"
   ]
  },
  {
   "cell_type": "markdown",
   "id": "562a33b0-a42e-4505-b547-74368e1468fd",
   "metadata": {},
   "source": [
    "### 2 -Python – Maximum and Minimum K elements in Tuple"
   ]
  },
  {
   "cell_type": "code",
   "execution_count": 2,
   "id": "40a86ddf-5e4c-4032-b898-ebd9905a5b06",
   "metadata": {},
   "outputs": [
    {
     "name": "stdout",
     "output_type": "stream",
     "text": [
      "Maximum 3 elements: [9, 8, 7]\n",
      "Minimum 3 elements: [1, 2, 3]\n"
     ]
    }
   ],
   "source": [
    "# Define a tuple\n",
    "my_tuple = (5, 1, 9, 3, 7, 6, 2, 8, 4)\n",
    "\n",
    "# Specify the value of k\n",
    "k = 3\n",
    "\n",
    "# Find the maximum k elements\n",
    "max_k_elements = sorted(my_tuple, reverse=True)[:k]\n",
    "# Find the minimum k elements\n",
    "min_k_elements = sorted(my_tuple)[:k]\n",
    "\n",
    "print(\"Maximum\", k, \"elements:\", max_k_elements)\n",
    "print(\"Minimum\", k, \"elements:\", min_k_elements)\n"
   ]
  },
  {
   "cell_type": "markdown",
   "id": "39dd545d-c364-4c2e-8798-4a4d2cabaf6f",
   "metadata": {},
   "source": [
    "### 3 -1. Can you explain how Tuples differ from Lists in Python?"
   ]
  },
  {
   "cell_type": "markdown",
   "id": "6970d462-b8f3-4c21-a2f4-a4a0ec44e3c0",
   "metadata": {},
   "source": [
    "### Certainly! Tuples and lists are both used to store collections of items in Python, but they have some key differences:\n",
    "\n",
    "1. **Mutability**:\n",
    "   - **Lists** are mutable, meaning you can change their contents (add, remove, or modify elements).\n",
    "   - **Tuples** are immutable, so once a tuple is created, its contents cannot be changed.\n",
    "\n",
    "2. **Syntax**:\n",
    "   - **Lists** are defined using square brackets: `my_list = [1, 2, 3]`.\n",
    "   - **Tuples** are defined using parentheses: `my_tuple = (1, 2, 3)`.\n",
    "\n",
    "3. **Performance**:\n",
    "   - **Tuples** can be slightly more efficient than lists in terms of memory usage and performance because they are immutable.\n",
    "  \n",
    "4. **Use Cases**:\n",
    "   - **Lists** are generally used when you need a collection of items that may change over time.\n",
    "   - **Tuples** are often used for fixed collections of items, such as coordinates or pairs of values, and can be used as keys in dictionaries due to their immutability.\n",
    "\n",
    "5. **Methods**:\n",
    "   - **Lists** have a variety of built-in methods (like `append()`, `remove()`, and `sort()`) to modify the list.\n",
    "   - **Tuples** have fewer methods (like `count()` and `index()`) since they can't be modified.\n",
    "\n",
    "In summary, choose lists for mutable collections and tuples for immutable collections!"
   ]
  },
  {
   "cell_type": "markdown",
   "id": "dc059b3a-f157-4f89-b7cc-9f43f37ff177",
   "metadata": {},
   "source": [
    "### 3. Can you write a function in Python to swap the elements in a Tuple?"
   ]
  },
  {
   "cell_type": "code",
   "execution_count": 1,
   "id": "e482ec14-9501-4616-b42a-4ee556ad63e6",
   "metadata": {},
   "outputs": [
    {
     "name": "stdout",
     "output_type": "stream",
     "text": [
      "(1, 4, 3, 2)\n"
     ]
    }
   ],
   "source": [
    "def swap_tuple_elements(tup, index1, index2):\n",
    "    # Convert tuple to a list to make it mutable\n",
    "    temp_list = list(tup)\n",
    "    \n",
    "    # Swap the elements at the specified indices\n",
    "    temp_list[index1], temp_list[index2] = temp_list[index2], temp_list[index1]\n",
    "    \n",
    "    # Convert the list back to a tuple\n",
    "    return tuple(temp_list)\n",
    "\n",
    "# Example usage:\n",
    "original_tuple = (1, 2, 3, 4)\n",
    "swapped_tuple = swap_tuple_elements(original_tuple, 1, 3)\n",
    "print(swapped_tuple)  # Output: (1, 4, 3, 2)\n"
   ]
  },
  {
   "cell_type": "markdown",
   "id": "2a0239f0-7b72-43af-8a76-c8d599e334f8",
   "metadata": {},
   "source": [
    "### 4 -. How would you compare or evaluate two tuples in Python?"
   ]
  },
  {
   "cell_type": "markdown",
   "id": "71f3116b-890a-4169-9454-052e53bfb3f5",
   "metadata": {},
   "source": [
    "### In Python, you can compare tuples directly using comparison operators. Here’s how it works:\n",
    "\n",
    "1. **Equality**:\n",
    "   - You can check if two tuples are equal using the `==` operator. This checks if both tuples have the same elements in the same order.\n",
    "   ```python\n",
    "   tuple1 = (1, 2, 3)\n",
    "   tuple2 = (1, 2, 3)\n",
    "   tuple3 = (1, 2, 4)\n",
    "\n",
    "   print(tuple1 == tuple2)  # True\n",
    "   print(tuple1 == tuple3)  # False\n",
    "   ```\n",
    "\n",
    "2. **Inequality**:\n",
    "   - Use `!=` to check if two tuples are not equal.\n",
    "   ```python\n",
    "   print(tuple1 != tuple3)  # True\n",
    "   ```\n",
    "\n",
    "3. **Comparison**:\n",
    "   - Tuples can also be compared using `<`, `>`, `<=`, and `>=` operators. The comparison is done lexicographically, meaning it compares element by element from the beginning until it finds elements that differ.\n",
    "   ```python\n",
    "   tuple4 = (1, 2, 3)\n",
    "   tuple5 = (1, 2, 4)\n",
    "   tuple6 = (1, 3)\n",
    "\n",
    "   print(tuple4 < tuple5)   # True (because 3 < 4)\n",
    "   print(tuple4 < tuple6)    # True (because 2 < 3)\n",
    "   print(tuple4 > tuple6)    # False\n",
    "   ```\n",
    "\n",
    "4. **Length**:\n",
    "   - You can also compare tuples based on their length. A shorter tuple is considered less than a longer tuple if the elements are equal up to the length of the shorter tuple.\n",
    "\n",
    "### Summary\n",
    "You can evaluate tuples using:\n",
    "- `==` for equality\n",
    "- `!=` for inequality\n",
    "- `<`, `>`, `<=`, `>=` for lexicographical comparison\n",
    "\n",
    "These comparisons make it easy to evaluate tuples in various contexts, such as sorting or conditional logic."
   ]
  },
  {
   "cell_type": "markdown",
   "id": "fe3f7e95-f5e0-4c6d-a9cf-7e834d174948",
   "metadata": {},
   "source": [
    "### 5 -Demonstrate how to convert a Tuple to a String in Python"
   ]
  },
  {
   "cell_type": "markdown",
   "id": "be5e983c-07bf-47f5-8939-0ca4e81db0ee",
   "metadata": {},
   "source": [
    "### you can convert a tuple to a string in Python using the join() method, which is commonly used to concatenate elements of an iterable. Here's how you can do it:\n",
    "\n",
    "Example 1: Converting a Tuple of Strings to a Single String"
   ]
  },
  {
   "cell_type": "code",
   "execution_count": 2,
   "id": "a80e4525-bf38-48a0-a66b-8d312905b869",
   "metadata": {},
   "outputs": [
    {
     "name": "stdout",
     "output_type": "stream",
     "text": [
      "Hello world from Python\n"
     ]
    }
   ],
   "source": [
    "# Tuple of strings\n",
    "tuple_of_strings = (\"Hello\", \"world\", \"from\", \"Python\")\n",
    "\n",
    "# Convert tuple to string\n",
    "result_string = \" \".join(tuple_of_strings)\n",
    "print(result_string)  # Output: \"Hello world from Python\"\n"
   ]
  },
  {
   "cell_type": "markdown",
   "id": "5d61512d-5857-4067-be34-fae7aa53a3ca",
   "metadata": {},
   "source": [
    "### Example 2: Converting a Tuple of Mixed Data Types to a String\n",
    "If your tuple contains mixed data types (e.g., integers, strings), you need to first convert each element to a string. You can do this using a generator expression within join():"
   ]
  },
  {
   "cell_type": "code",
   "execution_count": 3,
   "id": "2c813b6d-a9a8-4f2c-b9ab-f8f846bd14fb",
   "metadata": {},
   "outputs": [
    {
     "name": "stdout",
     "output_type": "stream",
     "text": [
      "1, apple, 3.14, banana\n"
     ]
    }
   ],
   "source": [
    "# Tuple with mixed data types\n",
    "mixed_tuple = (1, \"apple\", 3.14, \"banana\")\n",
    "\n",
    "# Convert tuple to string\n",
    "result_string = \", \".join(str(item) for item in mixed_tuple)\n",
    "print(result_string)  # Output: \"1, apple, 3.14, banana\"\n"
   ]
  },
  {
   "cell_type": "markdown",
   "id": "16e60cb8-169a-4657-83cd-fe012a57d3cc",
   "metadata": {},
   "source": [
    "### Example 3: Using str() to Convert the Entire Tuple\n",
    "If you want a string representation of the tuple as it is, including parentheses and commas, you can use the str() function:"
   ]
  },
  {
   "cell_type": "code",
   "execution_count": 4,
   "id": "aa2b286e-d293-487c-b4b3-c1bdd9adea8f",
   "metadata": {},
   "outputs": [
    {
     "name": "stdout",
     "output_type": "stream",
     "text": [
      "(1, 2, 3, 'example')\n"
     ]
    }
   ],
   "source": [
    "# Tuple\n",
    "simple_tuple = (1, 2, 3, \"example\")\n",
    "\n",
    "# Convert tuple to string using str()\n",
    "result_string = str(simple_tuple)\n",
    "print(result_string)  # Output: \"(1, 2, 3, 'example')\"\n"
   ]
  },
  {
   "cell_type": "markdown",
   "id": "65a651bc-e6f0-401a-8e33-31cff8b2ea69",
   "metadata": {},
   "source": [
    "### 6 - Explain the difference between a Tuple and a Dictionary in Python."
   ]
  },
  {
   "cell_type": "markdown",
   "id": "ccfec129-8ae7-4276-a254-7b9718fb580b",
   "metadata": {},
   "source": [
    "### Tuples and dictionaries are both fundamental data structures in Python, but they serve different purposes and have distinct characteristics. Here’s a breakdown of their differences:\n",
    "\n",
    "### 1. **Definition and Structure**\n",
    "\n",
    "- **Tuple**:\n",
    "  - A tuple is an ordered collection of elements, which can be of different types. It is defined using parentheses `()` and can hold multiple items.\n",
    "  - Example: `my_tuple = (1, 'apple', 3.14)`\n",
    "\n",
    "- **Dictionary**:\n",
    "  - A dictionary is an unordered collection of key-value pairs. Each key is unique, and values can be of any data type. Dictionaries are defined using curly braces `{}`.\n",
    "  - Example: `my_dict = {'name': 'Alice', 'age': 30, 'city': 'New York'}`\n",
    "\n",
    "### 2. **Mutability**\n",
    "\n",
    "- **Tuple**:\n",
    "  - Tuples are immutable, meaning once created, their elements cannot be changed, added, or removed.\n",
    "  \n",
    "- **Dictionary**:\n",
    "  - Dictionaries are mutable, allowing you to modify their contents (add, update, or remove key-value pairs).\n",
    "\n",
    "### 3. **Accessing Elements**\n",
    "\n",
    "- **Tuple**:\n",
    "  - Elements in a tuple are accessed by their index, starting from 0.\n",
    "  - Example: `my_tuple[1]` returns `'apple'`.\n",
    "\n",
    "- **Dictionary**:\n",
    "  - Values in a dictionary are accessed using their keys.\n",
    "  - Example: `my_dict['name']` returns `'Alice'`.\n",
    "\n",
    "### 4. **Use Cases**\n",
    "\n",
    "- **Tuple**:\n",
    "  - Typically used to store a fixed collection of items or records (e.g., coordinates, RGB values).\n",
    "  - Useful when you want to group related data together but don’t need to change it.\n",
    "\n",
    "- **Dictionary**:\n",
    "  - Ideal for storing data that needs to be associated with a unique key, such as configuration settings, data records, or any situation where quick lookups by key are required.\n",
    "\n",
    "### 5. **Performance**\n",
    "\n",
    "- **Tuple**:\n",
    "  - Generally more memory efficient and faster for iteration compared to dictionaries, due to their immutability.\n",
    "\n",
    "- **Dictionary**:\n",
    "  - Offers fast access time for lookups based on keys, but is typically more memory-intensive due to its overhead for maintaining key-value pairs.\n",
    "\n",
    "### Summary\n",
    "\n",
    "- **Tuples**: Ordered, immutable collections; accessed by index; best for fixed data.\n",
    "- **Dictionaries**: Unordered, mutable collections of key-value pairs; accessed by keys; best for associative data.\n",
    "\n",
    "Understanding these differences helps you choose the right data structure for your specific use case!"
   ]
  },
  {
   "cell_type": "markdown",
   "id": "c22b6f44-2dc0-4d6a-b4ee-b2cf6ed48efd",
   "metadata": {},
   "source": [
    "### 7 -How would you create a nested Tuple and access its elements?"
   ]
  },
  {
   "cell_type": "code",
   "execution_count": 5,
   "id": "1bedf065-726f-48ba-953e-88d341286c82",
   "metadata": {},
   "outputs": [],
   "source": [
    "# Creating a nested tuple\n",
    "nested_tuple = ((1, 2), (3, 4), (5, 6))\n"
   ]
  },
  {
   "cell_type": "code",
   "execution_count": 6,
   "id": "06a63d75-4f2b-4c3b-bf72-0185bc3f7e8f",
   "metadata": {},
   "outputs": [
    {
     "name": "stdout",
     "output_type": "stream",
     "text": [
      "(1, 2)\n",
      "2\n",
      "(5, 6)\n",
      "5\n"
     ]
    }
   ],
   "source": [
    "# Access the first inner tuple\n",
    "first_inner = nested_tuple[0]\n",
    "print(first_inner)  # Output: (1, 2)\n",
    "\n",
    "# Access the second element of the first inner tuple\n",
    "second_element_first_inner = nested_tuple[0][1]\n",
    "print(second_element_first_inner)  # Output: 2\n",
    "\n",
    "# Access the third inner tuple\n",
    "third_inner = nested_tuple[2]\n",
    "print(third_inner)  # Output: (5, 6)\n",
    "\n",
    "# Access the first element of the third inner tuple\n",
    "first_element_third_inner = nested_tuple[2][0]\n",
    "print(first_element_third_inner)  # Output: 5\n"
   ]
  },
  {
   "cell_type": "markdown",
   "id": "94ecaff4-4e38-4869-99d2-f02b2f69e6f6",
   "metadata": {},
   "source": [
    "### 7 -  Could you write a Python script to unpack a Tuple in variables?"
   ]
  },
  {
   "cell_type": "code",
   "execution_count": 7,
   "id": "127032a4-43cb-4176-8941-2741836dcaaa",
   "metadata": {},
   "outputs": [
    {
     "name": "stdout",
     "output_type": "stream",
     "text": [
      "Number: 10\n",
      "Fruit: apple\n",
      "Pi Value: 3.14\n",
      "Is True: True\n"
     ]
    }
   ],
   "source": [
    "# Define a tuple\n",
    "my_tuple = (10, 'apple', 3.14, True)\n",
    "\n",
    "# Unpack the tuple into variables\n",
    "num, fruit, pi_value, is_true = my_tuple\n",
    "\n",
    "# Print the unpacked variables\n",
    "print(\"Number:\", num)        # Output: Number: 10\n",
    "print(\"Fruit:\", fruit)       # Output: Fruit: apple\n",
    "print(\"Pi Value:\", pi_value) # Output: Pi Value: 3.14\n",
    "print(\"Is True:\", is_true)   # Output: Is True: True\n"
   ]
  },
  {
   "cell_type": "markdown",
   "id": "b46b9033-8eb9-4e08-9713-a54fc8a74ce5",
   "metadata": {},
   "source": [
    "### Note on Unpacking\n",
    "Ensure that the number of variables matches the number of elements in the tuple. If they don’t match, you will encounter a ValueError."
   ]
  },
  {
   "cell_type": "markdown",
   "id": "0ba86362-e8ec-4739-abb7-9963a575226c",
   "metadata": {},
   "source": [
    "### Example of Unpacking with Fewer Variables\n",
    "If you only want to unpack some elements, you can use an underscore _ to ignore certain values:"
   ]
  },
  {
   "cell_type": "code",
   "execution_count": 8,
   "id": "260b03c8-3d2c-4c8a-a495-29ba3f0a7bcf",
   "metadata": {},
   "outputs": [
    {
     "name": "stdout",
     "output_type": "stream",
     "text": [
      "Number: 10\n"
     ]
    }
   ],
   "source": [
    "# Unpack only the first two elements\n",
    "num, _ = my_tuple[:2]\n",
    "\n",
    "print(\"Number:\", num)  # Output: Number: 10\n"
   ]
  },
  {
   "cell_type": "markdown",
   "id": "0ce6cf38-9d79-4005-bdab-7a39b0e08c1e",
   "metadata": {},
   "source": [
    "### 8 - Is it possible to append or remove elements in a Tuple? If not, how would you work around it?"
   ]
  },
  {
   "cell_type": "markdown",
   "id": "f485b890-87a0-4918-b079-4c4b5b6c77bd",
   "metadata": {},
   "source": [
    "### No, it is not possible to append or remove elements in a tuple in Python because tuples are immutable. However, you can work around this limitation in a couple of ways:"
   ]
  },
  {
   "cell_type": "markdown",
   "id": "0131b415-d57b-4ced-ac31-32b657e2e2fc",
   "metadata": {},
   "source": [
    "### 1. Creating a New Tuple\n",
    "You can create a new tuple that includes the elements you want. To \"append\" an element, you can concatenate the original tuple with a new one:"
   ]
  },
  {
   "cell_type": "code",
   "execution_count": 9,
   "id": "81132f1c-ca34-4716-a650-fbab78ab4755",
   "metadata": {},
   "outputs": [
    {
     "name": "stdout",
     "output_type": "stream",
     "text": [
      "(1, 2, 3, 4)\n"
     ]
    }
   ],
   "source": [
    "# Original tuple\n",
    "original_tuple = (1, 2, 3)\n",
    "\n",
    "# Append an element (e.g., 4)\n",
    "new_tuple = original_tuple + (4,)\n",
    "print(new_tuple)  # Output: (1, 2, 3, 4)\n"
   ]
  },
  {
   "cell_type": "markdown",
   "id": "f0eb4a2c-c144-4951-baa6-164040913bc8",
   "metadata": {},
   "source": [
    "### To \"remove\" an element, you can create a new tuple that excludes the unwanted element:"
   ]
  },
  {
   "cell_type": "code",
   "execution_count": 10,
   "id": "a6ffe414-4e3d-45a2-a99a-45d62a668ecb",
   "metadata": {},
   "outputs": [
    {
     "name": "stdout",
     "output_type": "stream",
     "text": [
      "(1, 3)\n"
     ]
    }
   ],
   "source": [
    "# Remove an element (e.g., removing the number 2)\n",
    "new_tuple = tuple(x for x in original_tuple if x != 2)\n",
    "print(new_tuple)  # Output: (1, 3)\n"
   ]
  },
  {
   "cell_type": "markdown",
   "id": "91cb02f2-08d9-48d9-a9b4-0a17fb1fe78e",
   "metadata": {},
   "source": [
    "### 2. Converting to a List\n",
    "If you need to perform multiple modifications, you can convert the tuple to a list (which is mutable), make the changes, and then convert it back to a tuple:"
   ]
  },
  {
   "cell_type": "code",
   "execution_count": 11,
   "id": "339281d2-cad0-4089-b265-6d9e7d715acb",
   "metadata": {},
   "outputs": [
    {
     "name": "stdout",
     "output_type": "stream",
     "text": [
      "(1, 3, 4)\n"
     ]
    }
   ],
   "source": [
    "# Original tuple\n",
    "original_tuple = (1, 2, 3)\n",
    "\n",
    "# Convert to a list\n",
    "temp_list = list(original_tuple)\n",
    "\n",
    "# Append an element\n",
    "temp_list.append(4)\n",
    "\n",
    "# Remove an element\n",
    "temp_list.remove(2)\n",
    "\n",
    "# Convert back to a tuple\n",
    "new_tuple = tuple(temp_list)\n",
    "print(new_tuple)  # Output: (1, 3, 4)\n"
   ]
  },
  {
   "cell_type": "markdown",
   "id": "ea0c7db4-5cc9-4b16-a84b-10ccdada70c7",
   "metadata": {},
   "source": [
    "### Summary\n",
    "Tuples are immutable, so you can't directly append or remove elements.\n",
    "You can create new tuples by concatenation or filtering.\n",
    "For multiple changes, convert the tuple to a list, modify it, and convert it back to a tuple."
   ]
  },
  {
   "cell_type": "markdown",
   "id": "867a70e4-6367-47f7-b17b-afacf3f95589",
   "metadata": {},
   "source": [
    "### 9 - How would you merge multiple Tuples in Python?"
   ]
  },
  {
   "cell_type": "code",
   "execution_count": 12,
   "id": "78ca212c-d6db-44f8-b0fc-0c5b0ffe60d7",
   "metadata": {},
   "outputs": [
    {
     "name": "stdout",
     "output_type": "stream",
     "text": [
      "(1, 2, 3, 4, 5, 6, 7, 8)\n"
     ]
    }
   ],
   "source": [
    "# Define multiple tuples\n",
    "tuple1 = (1, 2, 3)\n",
    "tuple2 = (4, 5)\n",
    "tuple3 = (6, 7, 8)\n",
    "\n",
    "# Merge the tuples using the + operator\n",
    "merged_tuple = tuple1 + tuple2 + tuple3\n",
    "\n",
    "# Print the merged tuple\n",
    "print(merged_tuple)  # Output: (1, 2, 3, 4, 5, 6, 7, 8)\n"
   ]
  },
  {
   "cell_type": "markdown",
   "id": "370df7c6-1bd8-485a-8bd8-3681d6c62547",
   "metadata": {},
   "source": [
    "### Alternative: Using the tuple() Constructor with chain()\n",
    "If you have many tuples to merge or they are stored in an iterable (like a list), you can use the itertools.chain() function to create a merged tuple. Here’s how:"
   ]
  },
  {
   "cell_type": "code",
   "execution_count": 13,
   "id": "e29978de-18d2-4d9f-b0c5-8c2ee0f5d238",
   "metadata": {},
   "outputs": [
    {
     "name": "stdout",
     "output_type": "stream",
     "text": [
      "(1, 2, 3, 4, 5, 6, 7, 8)\n"
     ]
    }
   ],
   "source": [
    "from itertools import chain\n",
    "\n",
    "# Define multiple tuples\n",
    "tuple1 = (1, 2, 3)\n",
    "tuple2 = (4, 5)\n",
    "tuple3 = (6, 7, 8)\n",
    "\n",
    "# Use chain to merge tuples\n",
    "merged_tuple = tuple(chain(tuple1, tuple2, tuple3))\n",
    "\n",
    "# Print the merged tuple\n",
    "print(merged_tuple)  # Output: (1, 2, 3, 4, 5, 6, 7, 8)\n"
   ]
  },
  {
   "cell_type": "markdown",
   "id": "17c2a65f-874f-4917-a753-bca48d64592b",
   "metadata": {},
   "source": [
    "### 10 -How can you implement a Tuple as a Dictionary Key?"
   ]
  },
  {
   "cell_type": "code",
   "execution_count": 14,
   "id": "d8944754-dd8b-4dfe-86bc-93bc2db56bb5",
   "metadata": {},
   "outputs": [
    {
     "name": "stdout",
     "output_type": "stream",
     "text": [
      "This is a fruit\n",
      "{(1, 'apple'): 'This is a fruit', (2, 'banana'): 'Another fruit', (3, 'cherry'): 'Yet another fruit'}\n"
     ]
    }
   ],
   "source": [
    "# Define a tuple to use as a key\n",
    "key_tuple = (1, 'apple')\n",
    "\n",
    "# Create a dictionary with the tuple as a key\n",
    "my_dict = {\n",
    "    key_tuple: \"This is a fruit\",\n",
    "    (2, 'banana'): \"Another fruit\",\n",
    "}\n",
    "\n",
    "# Accessing the value using the tuple key\n",
    "value = my_dict[key_tuple]\n",
    "print(value)  # Output: This is a fruit\n",
    "\n",
    "# Adding another key-value pair using a tuple as a key\n",
    "my_dict[(3, 'cherry')] = \"Yet another fruit\"\n",
    "\n",
    "# Print the updated dictionary\n",
    "print(my_dict)\n"
   ]
  },
  {
   "cell_type": "markdown",
   "id": "16f89579-9a49-4de0-b962-853aa1162e17",
   "metadata": {},
   "source": [
    "### Explanation\n",
    "Defining a Tuple: Here, key_tuple is defined as a tuple containing an integer and a string.\n",
    "\n",
    "Creating a Dictionary: A dictionary my_dict is created, with tuples as keys. Each key is paired with a corresponding value.\n",
    "\n",
    "Accessing Values: You can access the value associated with a tuple key just like with any other key.\n",
    "\n",
    "Adding More Keys: You can also add additional key-value pairs using other tuples as keys.\n",
    "\n",
    "Important Considerations\n",
    "Immutability: Only immutable types can be used as dictionary keys. Since tuples are immutable, they can be used as keys as long as their elements are also hashable (e.g., strings, numbers, other tuples).\n",
    "\n",
    "Order: The order of elements in the tuple matters; (1, 'apple') and ('apple', 1) are considered different keys.\n",
    "\n",
    "Using tuples as dictionary keys can be very useful for grouping related data together, such as coordinates, configurations, or composite keys!\n",
    "\n",
    "\n",
    "\n"
   ]
  },
  {
   "cell_type": "markdown",
   "id": "c30e6daf-3f99-4790-ab19-56454c1e206c",
   "metadata": {},
   "source": [
    "### 11 -How would you count the frequency of elements in a Tuple in Python?"
   ]
  },
  {
   "cell_type": "markdown",
   "id": "38249a7d-6a35-4867-bbab-2b01b0c8da23",
   "metadata": {},
   "source": [
    "### 1. Using the count() Method"
   ]
  },
  {
   "cell_type": "code",
   "execution_count": 15,
   "id": "9a831197-de99-4099-8f44-276b9c383e0a",
   "metadata": {},
   "outputs": [
    {
     "name": "stdout",
     "output_type": "stream",
     "text": [
      "Frequency of 1: 3\n"
     ]
    }
   ],
   "source": [
    "# Define a tuple\n",
    "my_tuple = (1, 2, 3, 1, 2, 1, 4)\n",
    "\n",
    "# Count the frequency of a specific element (e.g., 1)\n",
    "frequency_of_one = my_tuple.count(1)\n",
    "print(f\"Frequency of 1: {frequency_of_one}\")  # Output: Frequency of 1: 3\n"
   ]
  },
  {
   "cell_type": "markdown",
   "id": "71c8b638-dd30-4f66-b572-ddfda0339408",
   "metadata": {},
   "source": [
    "### 2. Using a Loop and a Dictionary"
   ]
  },
  {
   "cell_type": "code",
   "execution_count": 16,
   "id": "c359ee05-5b93-4656-bd86-afa595ec7f69",
   "metadata": {},
   "outputs": [
    {
     "name": "stdout",
     "output_type": "stream",
     "text": [
      "{1: 3, 2: 2, 3: 1, 4: 1}\n"
     ]
    }
   ],
   "source": [
    "# Define a tuple\n",
    "my_tuple = (1, 2, 3, 1, 2, 1, 4)\n",
    "\n",
    "# Create an empty dictionary to store frequencies\n",
    "frequency_dict = {}\n",
    "\n",
    "# Count frequencies using a loop\n",
    "for item in my_tuple:\n",
    "    frequency_dict[item] = frequency_dict.get(item, 0) + 1\n",
    "\n",
    "# Print the frequency dictionary\n",
    "print(frequency_dict)  # Output: {1: 3, 2: 2, 3: 1, 4: 1}\n"
   ]
  },
  {
   "cell_type": "markdown",
   "id": "9de69b64-82d8-4d31-adfc-82e1487d81ed",
   "metadata": {},
   "source": [
    "### Using collections.Counter"
   ]
  },
  {
   "cell_type": "code",
   "execution_count": 17,
   "id": "073ebd7b-8884-4d12-81fb-a7590bf8d4ba",
   "metadata": {},
   "outputs": [
    {
     "name": "stdout",
     "output_type": "stream",
     "text": [
      "Counter({1: 3, 2: 2, 3: 1, 4: 1})\n"
     ]
    }
   ],
   "source": [
    "from collections import Counter\n",
    "\n",
    "# Define a tuple\n",
    "my_tuple = (1, 2, 3, 1, 2, 1, 4)\n",
    "\n",
    "# Use Counter to count frequencies\n",
    "frequency_counter = Counter(my_tuple)\n",
    "\n",
    "# Print the frequency dictionary\n",
    "print(frequency_counter)  # Output: Counter({1: 3, 2: 2, 3: 1, 4: 1})\n"
   ]
  },
  {
   "cell_type": "markdown",
   "id": "c477d0cc-c21e-497a-9c63-5c28611c7ef4",
   "metadata": {},
   "source": [
    "### 12 -Can you explain the immutability of Tuples with a practical code example?"
   ]
  },
  {
   "cell_type": "markdown",
   "id": "d7bacfec-08f9-4c94-aedf-60af74ab5f0c",
   "metadata": {},
   "source": [
    "### Immutability means that once a tuple is created, its elements cannot be changed, added, or removed. This property can be demonstrated with a practical example."
   ]
  },
  {
   "cell_type": "code",
   "execution_count": 18,
   "id": "e7cf8886-4e30-41c1-b58d-de28a308a507",
   "metadata": {},
   "outputs": [
    {
     "name": "stdout",
     "output_type": "stream",
     "text": [
      "Error: 'tuple' object does not support item assignment\n",
      "Error: 'tuple' object has no attribute 'append'\n",
      "Error: 'tuple' object has no attribute 'remove'\n",
      "Original tuple: (1, 2, 3)\n"
     ]
    }
   ],
   "source": [
    "# Create a tuple\n",
    "my_tuple = (1, 2, 3)\n",
    "\n",
    "# Try to change an element\n",
    "try:\n",
    "    my_tuple[1] = 4  # This will raise an error\n",
    "except TypeError as e:\n",
    "    print(\"Error:\", e)  # Output: Error: 'tuple' object does not support item assignment\n",
    "\n",
    "# Try to add an element\n",
    "try:\n",
    "    my_tuple.append(4)  # This will raise an error\n",
    "except AttributeError as e:\n",
    "    print(\"Error:\", e)  # Output: Error: 'tuple' object has no attribute 'append'\n",
    "\n",
    "# Try to remove an element\n",
    "try:\n",
    "    my_tuple.remove(2)  # This will raise an error\n",
    "except AttributeError as e:\n",
    "    print(\"Error:\", e)  # Output: Error: 'tuple' object has no attribute 'remove'\n",
    "\n",
    "# Show the original tuple remains unchanged\n",
    "print(\"Original tuple:\", my_tuple)  # Output: Original tuple: (1, 2, 3)\n"
   ]
  },
  {
   "cell_type": "markdown",
   "id": "b15466b6-cf73-4abd-8542-e63885d33b82",
   "metadata": {},
   "source": [
    "### Explanation\n",
    "* Creating a Tuple: We start by creating a tuple named my_tuple containing three elements: (1, 2, 3).\n",
    "\n",
    "* Attempting to Change an Element: When we try to change the second element (my_tuple[1] = 4), Python raises a TypeError, indicating that you cannot assign a new value to an element of a tuple.\n",
    "\n",
    "* Attempting to Append an Element: Trying to call the append() method results in an AttributeError, as tuples do not have this method because they cannot be modified.\n",
    "\n",
    "* Attempting to Remove an Element: Similar to the append attempt, trying to call the remove() method also raises an AttributeError.\n",
    "\n",
    "* Showing Immutability: Finally, printing my_tuple confirms that it remains unchanged as (1, 2, 3). "
   ]
  },
  {
   "cell_type": "markdown",
   "id": "56782403-1081-47a1-b889-92b85a2d96ad",
   "metadata": {},
   "source": [
    "### 13  In what scenarios would you choose a Tuple over a List or Set?"
   ]
  },
  {
   "cell_type": "markdown",
   "id": "c6fa41bb-8100-4edf-aff1-1655b3a6b55d",
   "metadata": {},
   "source": [
    "### Choosing between a tuple, list, or set in Python depends on the specific requirements of your application. Here are some scenarios where you might prefer a tuple over a list or set:\n",
    "\n",
    "### 1. **Immutability**\n",
    "\n",
    "- **Use Case**: When you need to ensure that the collection of values remains constant throughout your program.\n",
    "- **Example**: Returning multiple values from a function. Since the values shouldn’t change, a tuple is a good choice.\n",
    "  ```python\n",
    "  def get_coordinates():\n",
    "      return (10.0, 20.0)  # Returning fixed coordinates as a tuple\n",
    "  ```\n",
    "\n",
    "### 2. **Fixed Data Structures**\n",
    "\n",
    "- **Use Case**: When you want to represent a fixed collection of items, such as RGB color values or points in a 2D space.\n",
    "- **Example**: Representing a point in a 2D space with (x, y) coordinates.\n",
    "  ```python\n",
    "  point = (5, 10)  # Fixed point representation\n",
    "  ```\n",
    "\n",
    "### 3. **Hashability**\n",
    "\n",
    "- **Use Case**: When you need to use the collection as a key in a dictionary or an element in a set.\n",
    "- **Example**: Storing coordinates or composite keys in a dictionary.\n",
    "  ```python\n",
    "  locations = {(1, 2): \"Location A\", (3, 4): \"Location B\"}  # Tuples as keys\n",
    "  ```\n",
    "\n",
    "### 4. **Performance**\n",
    "\n",
    "- **Use Case**: When you need a lightweight collection and performance is a concern. Tuples can be slightly faster in terms of iteration and memory usage due to their immutability.\n",
    "- **Example**: In performance-critical applications where large collections of data are processed.\n",
    "  ```python\n",
    "  large_tuple = tuple(range(1000000))  # Creating a large tuple\n",
    "  ```\n",
    "\n",
    "### 5. **Semantic Meaning**\n",
    "\n",
    "- **Use Case**: When the semantic meaning of the collection is important. Tuples can signal that the collection should not be modified, providing clearer intent.\n",
    "- **Example**: Using tuples to represent records where each position has a specific meaning.\n",
    "  ```python\n",
    "  record = (\"Alice\", 30, \"Engineer\")  # Tuple representing (Name, Age, Job)\n",
    "  ```\n",
    "\n",
    "### Summary\n",
    "\n",
    "- **Tuples**: Choose when immutability, fixed size, hashability, or performance is important.\n",
    "- **Lists**: Choose when you need a mutable collection that can grow or shrink dynamically.\n",
    "- **Sets**: Choose when you need a collection of unique items and order does not matter.\n",
    "\n",
    "By selecting the appropriate data structure based on these considerations, you can write more efficient and maintainable Python code!"
   ]
  },
  {
   "cell_type": "markdown",
   "id": "59ebe93d-11cb-4dd7-af2e-093eed7fb25a",
   "metadata": {},
   "source": [
    "### 14 Explain how to use the ‘del’ statement with a Tuple in Python"
   ]
  },
  {
   "cell_type": "code",
   "execution_count": 19,
   "id": "1d24ead8-4352-45e9-b1f0-1f53c0ac5e40",
   "metadata": {},
   "outputs": [
    {
     "name": "stdout",
     "output_type": "stream",
     "text": [
      "Before deletion: (1, 2, 3, 4)\n",
      "Error: name 'my_tuple' is not defined\n"
     ]
    }
   ],
   "source": [
    "# Create a tuple\n",
    "my_tuple = (1, 2, 3, 4)\n",
    "\n",
    "# Print the tuple before deletion\n",
    "print(\"Before deletion:\", my_tuple)  # Output: Before deletion: (1, 2, 3, 4)\n",
    "\n",
    "# Delete the tuple\n",
    "del my_tuple\n",
    "\n",
    "# Try to print the tuple after deletion (this will raise an error)\n",
    "try:\n",
    "    print(my_tuple)\n",
    "except NameError as e:\n",
    "    print(\"Error:\", e)  # Output: Error: name 'my_tuple' is not defined\n"
   ]
  },
  {
   "cell_type": "markdown",
   "id": "73264833-e2d0-4325-9694-fb25b4cec166",
   "metadata": {},
   "source": [
    "### Explanation\n",
    "Creating a Tuple: A tuple my_tuple is created with four elements.\n",
    "\n",
    "Printing the Tuple: The tuple is printed to show its contents.\n",
    "\n",
    "Deleting the Tuple: The del my_tuple statement deletes the entire tuple variable.\n",
    "\n",
    "Attempting to Access the Deleted Tuple: After deletion, any attempt to access my_tuple results in a NameError, indicating that the variable is no longer defined.\n",
    "\n",
    "Important Points\n",
    "Immutability: You cannot delete individual elements of a tuple since it is immutable. Attempting to modify or remove elements will raise an error.\n",
    "\n",
    "Variable Deletion: The del statement can be used to remove the entire tuple variable from the namespace, but not its contents.\n",
    "\n",
    "Summary\n",
    "The del statement can effectively delete a tuple variable, but it cannot modify or remove elements from within the tuple itself due to the immutable nature of tuples. This allows you to manage your variable namespace by removing unnecessary variables when they are no longer needed"
   ]
  },
  {
   "cell_type": "markdown",
   "id": "fc47347f-e6dc-4050-8ee3-471411d786ae",
   "metadata": {},
   "source": [
    "### 14 -Could you demonstrate how to slice a Tuple in Python?"
   ]
  },
  {
   "cell_type": "markdown",
   "id": "0bd70e15-6186-47b5-9f7d-146b3253afc5",
   "metadata": {},
   "source": [
    "### Certainly! Slicing a tuple in Python allows you to create a new tuple that contains a subset of the elements from the original tuple. You can specify the start index, end index, and an optional step. Here’s how it works:\n",
    "\n",
    "### Basic Syntax for Slicing\n",
    "\n",
    "The syntax for slicing a tuple is:\n",
    "\n",
    "```python\n",
    "new_tuple = original_tuple[start:end:step]\n",
    "```\n",
    "\n",
    "- `start`: The index to start slicing (inclusive).\n",
    "- `end`: The index to end slicing (exclusive).\n",
    "- `step`: The amount to increment the index by (optional).\n",
    "\n",
    "### Example of Tuple Slicing\n",
    "\n",
    "```python\n",
    "# Create a tuple\n",
    "my_tuple = (0, 1, 2, 3, 4, 5, 6, 7, 8, 9)\n",
    "\n",
    "# Slicing examples\n",
    "\n",
    "# Slice from index 2 to 5\n",
    "slice1 = my_tuple[2:5]\n",
    "print(\"Slice from index 2 to 5:\", slice1)  # Output: (2, 3, 4)\n",
    "\n",
    "# Slice from the beginning to index 4\n",
    "slice2 = my_tuple[:4]\n",
    "print(\"Slice from the beginning to index 4:\", slice2)  # Output: (0, 1, 2, 3)\n",
    "\n",
    "# Slice from index 5 to the end\n",
    "slice3 = my_tuple[5:]\n",
    "print(\"Slice from index 5 to the end:\", slice3)  # Output: (5, 6, 7, 8, 9)\n",
    "\n",
    "# Slice with a step (every second element)\n",
    "slice4 = my_tuple[::2]\n",
    "print(\"Slice with a step of 2:\", slice4)  # Output: (0, 2, 4, 6, 8)\n",
    "\n",
    "# Slice with negative indices\n",
    "slice5 = my_tuple[-4:-1]\n",
    "print(\"Slice from index -4 to -1:\", slice5)  # Output: (6, 7, 8)\n",
    "```\n",
    "\n",
    "### Explanation\n",
    "\n",
    "1. **Creating a Tuple**: A tuple `my_tuple` is created with elements from 0 to 9.\n",
    "\n",
    "2. **Slicing Examples**:\n",
    "   - **`slice1`**: Slices from index 2 to 5 (exclusive), resulting in `(2, 3, 4)`.\n",
    "   - **`slice2`**: Slices from the start to index 4 (exclusive), resulting in `(0, 1, 2, 3)`.\n",
    "   - **`slice3`**: Slices from index 5 to the end of the tuple, resulting in `(5, 6, 7, 8, 9)`.\n",
    "   - **`slice4`**: Uses a step of 2 to get every second element, resulting in `(0, 2, 4, 6, 8)`.\n",
    "   - **`slice5`**: Uses negative indices to slice from index -4 to -1, resulting in `(6, 7, 8)`.\n",
    "\n",
    "### Summary\n",
    "\n",
    "Slicing is a powerful feature in Python that allows you to create sub-tuples from existing tuples easily. By using start, end, and step parameters, you can extract exactly the elements you need."
   ]
  },
  {
   "cell_type": "code",
   "execution_count": 20,
   "id": "5e480d58-4181-4549-af00-8792fe05dc0f",
   "metadata": {},
   "outputs": [
    {
     "name": "stdout",
     "output_type": "stream",
     "text": [
      "Slice from index 2 to 5: (2, 3, 4)\n",
      "Slice from the beginning to index 4: (0, 1, 2, 3)\n",
      "Slice from index 5 to the end: (5, 6, 7, 8, 9)\n",
      "Slice with a step of 2: (0, 2, 4, 6, 8)\n",
      "Slice from index -4 to -1: (6, 7, 8)\n"
     ]
    }
   ],
   "source": [
    "# Create a tuple\n",
    "my_tuple = (0, 1, 2, 3, 4, 5, 6, 7, 8, 9)\n",
    "\n",
    "# Slicing examples\n",
    "\n",
    "# Slice from index 2 to 5\n",
    "slice1 = my_tuple[2:5]\n",
    "print(\"Slice from index 2 to 5:\", slice1)  # Output: (2, 3, 4)\n",
    "\n",
    "# Slice from the beginning to index 4\n",
    "slice2 = my_tuple[:4]\n",
    "print(\"Slice from the beginning to index 4:\", slice2)  # Output: (0, 1, 2, 3)\n",
    "\n",
    "# Slice from index 5 to the end\n",
    "slice3 = my_tuple[5:]\n",
    "print(\"Slice from index 5 to the end:\", slice3)  # Output: (5, 6, 7, 8, 9)\n",
    "\n",
    "# Slice with a step (every second element)\n",
    "slice4 = my_tuple[::2]\n",
    "print(\"Slice with a step of 2:\", slice4)  # Output: (0, 2, 4, 6, 8)\n",
    "\n",
    "# Slice with negative indices\n",
    "slice5 = my_tuple[-4:-1]\n",
    "print(\"Slice from index -4 to -1:\", slice5)  # Output: (6, 7, 8)\n"
   ]
  },
  {
   "cell_type": "markdown",
   "id": "bb88fc93-6919-4580-a890-63c8d5f823a3",
   "metadata": {},
   "source": [
    "### 15 -What is Tuple assignment in Python? Can you provide an example?"
   ]
  },
  {
   "cell_type": "markdown",
   "id": "54d106fa-7db6-4a27-a130-531680182c47",
   "metadata": {},
   "source": [
    "### Tuple assignment in Python allows you to assign multiple values to multiple variables in a single statement using tuples. This is often referred to as \"tuple unpacking.\" It provides a clean and efficient way to assign values and can be particularly useful when dealing with functions that return multiple values.\n",
    "\n",
    "### Example of Tuple Assignment\n",
    "\n",
    "Here’s a simple example to illustrate tuple assignment:\n",
    "\n",
    "```python\n",
    "# Create a tuple with multiple values\n",
    "my_tuple = (10, 20, 30)\n",
    "\n",
    "# Assign the values of the tuple to multiple variables\n",
    "a, b, c = my_tuple\n",
    "\n",
    "# Print the assigned variables\n",
    "print(\"a:\", a)  # Output: a: 10\n",
    "print(\"b:\", b)  # Output: b: 20\n",
    "print(\"c:\", c)  # Output: c: 30\n",
    "```\n",
    "\n",
    "### Explanation\n",
    "\n",
    "1. **Creating a Tuple**: We define a tuple named `my_tuple` containing three integer values: `(10, 20, 30)`.\n",
    "\n",
    "2. **Tuple Assignment**: The line `a, b, c = my_tuple` unpacks the tuple and assigns its values to the variables `a`, `b`, and `c`. Each variable receives the corresponding value from the tuple based on its position.\n",
    "\n",
    "3. **Printing Variables**: Finally, we print the values of `a`, `b`, and `c` to verify that the assignment was successful.\n",
    "\n",
    "### Additional Example: Returning Multiple Values from a Function\n",
    "\n",
    "Tuple assignment is commonly used in functions that return multiple values:\n",
    "\n",
    "```python\n",
    "def get_user_info():\n",
    "    return (\"Alice\", 30, \"Engineer\")  # Returning a tuple\n",
    "\n",
    "# Assign returned values to variables\n",
    "name, age, job = get_user_info()\n",
    "\n",
    "# Print the results\n",
    "print(\"Name:\", name)  # Output: Name: Alice\n",
    "print(\"Age:\", age)    # Output: Age: 30\n",
    "print(\"Job:\", job)    # Output: Job: Engineer\n",
    "```\n",
    "\n",
    "### Summary\n",
    "\n",
    "- **Tuple Assignment**: Allows for multiple variable assignments in a single statement using tuple unpacking.\n",
    "- **Use Case**: It's particularly useful for returning multiple values from functions and can lead to cleaner, more readable code.\n",
    "\n",
    "Tuple assignment simplifies the process of working with collections of related data!"
   ]
  },
  {
   "cell_type": "markdown",
   "id": "513a93e6-5f42-474d-a680-cfcb7edb80cb",
   "metadata": {},
   "source": [
    "### 16 -How would you iterate over a Tuple in Python? Show a code snippet."
   ]
  },
  {
   "cell_type": "code",
   "execution_count": 21,
   "id": "88fa5ee5-e141-45fd-9a55-bcb6f79ce7b1",
   "metadata": {},
   "outputs": [
    {
     "name": "stdout",
     "output_type": "stream",
     "text": [
      "10\n",
      "20\n",
      "30\n",
      "40\n",
      "50\n"
     ]
    }
   ],
   "source": [
    "# Create a tuple\n",
    "my_tuple = (10, 20, 30, 40, 50)\n",
    "\n",
    "# Iterate over the tuple\n",
    "for item in my_tuple:\n",
    "    print(item)\n"
   ]
  },
  {
   "cell_type": "markdown",
   "id": "4bc65969-b79e-432e-ba3a-f2f96f213a05",
   "metadata": {},
   "source": [
    "### 17 - How do you sort a Tuple in Python?"
   ]
  },
  {
   "cell_type": "code",
   "execution_count": 22,
   "id": "bcb8c08c-404c-47b0-b616-e4c6c57c00b5",
   "metadata": {},
   "outputs": [
    {
     "name": "stdout",
     "output_type": "stream",
     "text": [
      "Original Tuple: (5, 2, 9, 1, 5, 6)\n",
      "Sorted Tuple: (1, 2, 5, 5, 6, 9)\n"
     ]
    }
   ],
   "source": [
    "# Create a tuple\n",
    "my_tuple = (5, 2, 9, 1, 5, 6)\n",
    "\n",
    "# Sort the tuple\n",
    "sorted_tuple = tuple(sorted(my_tuple))\n",
    "\n",
    "# Print the sorted tuple\n",
    "print(\"Original Tuple:\", my_tuple)       # Output: Original Tuple: (5, 2, 9, 1, 5, 6)\n",
    "print(\"Sorted Tuple:\", sorted_tuple)     # Output: Sorted Tuple: (1, 2, 5, 5, 6, 9)\n"
   ]
  },
  {
   "cell_type": "markdown",
   "id": "1b1a1898-b683-4fca-b45a-3d46b8c8ffdf",
   "metadata": {},
   "source": [
    "### Sorting in Descending Order"
   ]
  },
  {
   "cell_type": "code",
   "execution_count": 23,
   "id": "2df6ce7b-bd6a-47b7-b94d-ac4ce4fa2eb2",
   "metadata": {},
   "outputs": [
    {
     "name": "stdout",
     "output_type": "stream",
     "text": [
      "Sorted Tuple (Descending): (9, 6, 5, 5, 2, 1)\n"
     ]
    }
   ],
   "source": [
    "# Sort the tuple in descending order\n",
    "sorted_tuple_desc = tuple(sorted(my_tuple, reverse=True))\n",
    "\n",
    "# Print the sorted tuple in descending order\n",
    "print(\"Sorted Tuple (Descending):\", sorted_tuple_desc)  # Output: Sorted Tuple (Descending): (9, 6, 5, 5, 2, 1)\n"
   ]
  },
  {
   "cell_type": "markdown",
   "id": "99f9f9a0-d7be-4152-8d46-f8e4739426e0",
   "metadata": {},
   "source": [
    "### 18 -Explain the concept of Tuple packing and unpacking with examples."
   ]
  },
  {
   "cell_type": "markdown",
   "id": "0be50ac4-9da8-4ea4-89f6-c305b2afc8ad",
   "metadata": {},
   "source": [
    "### Tuple packing and unpacking are fundamental concepts in Python that allow you to group multiple values into a single tuple and then later extract those values back into individual variables. Here’s a detailed explanation of both concepts with examples.\n",
    "\n",
    "### Tuple Packing\n",
    "\n",
    "**Tuple packing** is the process of creating a tuple by grouping multiple values together. You can pack values into a tuple without explicitly using parentheses, as long as the values are separated by commas.\n",
    "\n",
    "#### Example of Tuple Packing\n",
    "\n",
    "```python\n",
    "# Packing values into a tuple\n",
    "packed_tuple = 1, \"Hello\", 3.14, True\n",
    "\n",
    "# Print the packed tuple\n",
    "print(\"Packed Tuple:\", packed_tuple)  # Output: Packed Tuple: (1, 'Hello', 3.14, True)\n",
    "```\n",
    "\n",
    "### Tuple Unpacking\n",
    "\n",
    "**Tuple unpacking** is the process of extracting values from a tuple and assigning them to individual variables. This is done by specifying a tuple on the left side of the assignment, which matches the number of elements in the tuple.\n",
    "\n",
    "#### Example of Tuple Unpacking\n",
    "\n",
    "```python\n",
    "# Create a tuple\n",
    "my_tuple = (10, 20, 30)\n",
    "\n",
    "# Unpacking the tuple into variables\n",
    "a, b, c = my_tuple\n",
    "\n",
    "# Print the unpacked variables\n",
    "print(\"a:\", a)  # Output: a: 10\n",
    "print(\"b:\", b)  # Output: b: 20\n",
    "print(\"c:\", c)  # Output: c: 30\n",
    "```\n",
    "\n",
    "### Using Tuple Packing and Unpacking in Functions\n",
    "\n",
    "Tuple packing and unpacking are particularly useful when working with functions that return multiple values.\n",
    "\n",
    "#### Example of Packing and Unpacking in a Function\n",
    "\n",
    "```python\n",
    "def get_point():\n",
    "    # Packing values into a tuple to return\n",
    "    return (5, 10)\n",
    "\n",
    "# Unpacking the returned tuple into variables\n",
    "x, y = get_point()\n",
    "\n",
    "# Print the unpacked values\n",
    "print(\"X:\", x)  # Output: X: 5\n",
    "print(\"Y:\", y)  # Output: Y: 10\n",
    "```\n",
    "\n",
    "### Summary\n",
    "\n",
    "- **Tuple Packing**: Grouping multiple values into a single tuple. This can be done implicitly or explicitly.\n",
    "- **Tuple Unpacking**: Extracting values from a tuple into individual variables. The number of variables must match the number of elements in the tuple.\n",
    "\n",
    "These concepts allow for cleaner and more efficient handling of multiple related values in Python!"
   ]
  },
  {
   "cell_type": "markdown",
   "id": "295d60ff-3585-4f6a-b0c4-98a608a6762a",
   "metadata": {},
   "source": [
    "### 19 -How do you write a Python function to find the minimum and maximum elements in a Tuple?"
   ]
  },
  {
   "cell_type": "code",
   "execution_count": 24,
   "id": "52dfbbfd-8358-4b29-a754-64efaaa4e755",
   "metadata": {},
   "outputs": [
    {
     "name": "stdout",
     "output_type": "stream",
     "text": [
      "Minimum: 2\n",
      "Maximum: 10\n"
     ]
    }
   ],
   "source": [
    "def find_min_max(input_tuple):\n",
    "    if not input_tuple:\n",
    "        return None, None\n",
    "    return min(input_tuple), max(input_tuple)\n",
    "\n",
    "# Example usage\n",
    "my_tuple = (10, 2, 8, 4, 6)\n",
    "min_value, max_value = find_min_max(my_tuple)\n",
    "\n",
    "print(\"Minimum:\", min_value)  # Output: Minimum: 2\n",
    "print(\"Maximum:\", max_value)  # Output: Maximum: 10\n"
   ]
  },
  {
   "cell_type": "code",
   "execution_count": 25,
   "id": "c23ed597-28b3-4e87-b9bb-4fe0fb5ba054",
   "metadata": {},
   "outputs": [
    {
     "name": "stdout",
     "output_type": "stream",
     "text": [
      "Minimum: 2\n",
      "Maximum: 10\n"
     ]
    }
   ],
   "source": [
    "# Create a tuple\n",
    "my_tuple = (10, 2, 8, 4, 6)\n",
    "\n",
    "# Check if the tuple is empty\n",
    "if not my_tuple:\n",
    "    min_value, max_value = None, None\n",
    "else:\n",
    "    min_value = min(my_tuple)\n",
    "    max_value = max(my_tuple)\n",
    "\n",
    "print(\"Minimum:\", min_value)  # Output: Minimum: 2\n",
    "print(\"Maximum:\", max_value)  # Output: Maximum: 10\n"
   ]
  },
  {
   "cell_type": "markdown",
   "id": "2179638c-b70a-4537-a36f-51a31c9d9e78",
   "metadata": {},
   "source": [
    "### 20 -Can Tuples be used as keys in a Dictionary? Why or why not?"
   ]
  },
  {
   "cell_type": "markdown",
   "id": "a0fb6e61-c3f9-40cb-b34d-6b0a26e8aeb9",
   "metadata": {},
   "source": [
    "### Yes, tuples can be used as keys in a dictionary in Python. This is because tuples are immutable and hashable. Here’s a more detailed explanation:\n",
    "\n",
    "### Why Tuples Can Be Used as Dictionary Keys\n",
    "\n",
    "1. **Immutability**: \n",
    "   - Tuples are immutable, meaning that once they are created, their contents cannot be changed. This property is essential for a key in a dictionary because if a key could be modified, it would break the integrity of the mapping.\n",
    "\n",
    "2. **Hashability**:\n",
    "   - A key in a dictionary must be hashable, which means it must have a fixed hash value. Since tuples are immutable, they maintain a constant hash value, allowing them to be used as keys. In contrast, lists are mutable and therefore not hashable.\n",
    "\n",
    "### Example of Using Tuples as Dictionary Keys\n",
    "\n",
    "```python\n",
    "# Create a dictionary with tuples as keys\n",
    "coordinates = {\n",
    "    (1, 2): \"Point A\",\n",
    "    (3, 4): \"Point B\",\n",
    "    (5, 6): \"Point C\"\n",
    "}\n",
    "\n",
    "# Accessing values using tuple keys\n",
    "print(coordinates[(1, 2)])  # Output: Point A\n",
    "print(coordinates[(3, 4)])  # Output: Point B\n",
    "```\n",
    "\n",
    "### Important Considerations\n",
    "\n",
    "- **Nested Tuples**: If a tuple contains other mutable types (like lists), it cannot be used as a dictionary key because the mutable elements can change, affecting the hash value.\n",
    "  \n",
    "- **Order Matters**: The order of elements in the tuple matters. For example, `(1, 2)` and `(2, 1)` are considered different keys.\n",
    "\n",
    "### Summary\n",
    "\n",
    "Tuples can be used as keys in a dictionary because they are immutable and hashable, making them suitable for maintaining a stable mapping in a dictionary."
   ]
  },
  {
   "cell_type": "markdown",
   "id": "2541527b-620f-40c8-9228-6078475243ef",
   "metadata": {},
   "source": [
    "### 21 - How would you convert a Tuple to a List and vice versa?"
   ]
  },
  {
   "cell_type": "code",
   "execution_count": 26,
   "id": "e3e1c6ea-7471-47d4-b567-1fef9a6c2d18",
   "metadata": {},
   "outputs": [
    {
     "name": "stdout",
     "output_type": "stream",
     "text": [
      "Converted List: [1, 2, 3, 4]\n"
     ]
    }
   ],
   "source": [
    "# Create a tuple\n",
    "my_tuple = (1, 2, 3, 4)\n",
    "\n",
    "# Convert the tuple to a list\n",
    "my_list = list(my_tuple)\n",
    "\n",
    "# Print the list\n",
    "print(\"Converted List:\", my_list)  # Output: Converted List: [1, 2, 3, 4]\n"
   ]
  },
  {
   "cell_type": "code",
   "execution_count": 27,
   "id": "776cc326-52c2-47f0-ace7-7d5c36d7d3dc",
   "metadata": {},
   "outputs": [
    {
     "name": "stdout",
     "output_type": "stream",
     "text": [
      "Converted Tuple: (5, 6, 7, 8)\n"
     ]
    }
   ],
   "source": [
    "# Create a list\n",
    "my_list = [5, 6, 7, 8]\n",
    "\n",
    "# Convert the list to a tuple\n",
    "my_tuple = tuple(my_list)\n",
    "\n",
    "# Print the tuple\n",
    "print(\"Converted Tuple:\", my_tuple)  # Output: Converted Tuple: (5, 6, 7, 8)\n"
   ]
  },
  {
   "cell_type": "markdown",
   "id": "11546364-ad27-472a-be53-2248d1e93b2b",
   "metadata": {},
   "source": [
    "### 22 -How do you determine if an element exists within a Tuple?"
   ]
  },
  {
   "cell_type": "code",
   "execution_count": 28,
   "id": "96e7249a-aa9e-48ff-9391-b229cca6c4be",
   "metadata": {},
   "outputs": [
    {
     "name": "stdout",
     "output_type": "stream",
     "text": [
      "30 exists in the tuple.\n"
     ]
    }
   ],
   "source": [
    "# Create a tuple\n",
    "my_tuple = (10, 20, 30, 40, 50)\n",
    "\n",
    "# Element to check\n",
    "element = 30\n",
    "\n",
    "# Check if the element exists in the tuple\n",
    "if element in my_tuple:\n",
    "    print(f\"{element} exists in the tuple.\")\n",
    "else:\n",
    "    print(f\"{element} does not exist in the tuple.\")\n"
   ]
  },
  {
   "cell_type": "markdown",
   "id": "468f3b77-6158-47e8-921a-c8a4495fa17f",
   "metadata": {},
   "source": [
    "### 23 - Can you write a Python function to reverse a Tuple?"
   ]
  },
  {
   "cell_type": "code",
   "execution_count": 29,
   "id": "215282f6-997f-4890-9c0c-80a653fe590c",
   "metadata": {},
   "outputs": [
    {
     "name": "stdout",
     "output_type": "stream",
     "text": [
      "Original Tuple: (1, 2, 3, 4, 5)\n",
      "Reversed Tuple: (5, 4, 3, 2, 1)\n"
     ]
    }
   ],
   "source": [
    "def reverse_tuple(input_tuple):\n",
    "    # Reverse the tuple using slicing\n",
    "    return input_tuple[::-1]\n",
    "\n",
    "# Example usage\n",
    "my_tuple = (1, 2, 3, 4, 5)\n",
    "reversed_tuple = reverse_tuple(my_tuple)\n",
    "\n",
    "print(\"Original Tuple:\", my_tuple)          # Output: Original Tuple: (1, 2, 3, 4, 5)\n",
    "print(\"Reversed Tuple:\", reversed_tuple)    # Output: Reversed Tuple: (5, 4, 3, 2, 1)\n"
   ]
  },
  {
   "cell_type": "markdown",
   "id": "424d5556-2022-4abe-bffb-c12c829f34fb",
   "metadata": {},
   "source": [
    "### 24 - Explain how to use a Tuple as a Dictionary Key and what advantages it might offer"
   ]
  },
  {
   "cell_type": "markdown",
   "id": "d58c0943-5116-4ca6-940e-9e0a919046bd",
   "metadata": {},
   "source": [
    "### Using a tuple as a dictionary key in Python is possible because tuples are immutable and hashable. This allows you to create complex keys composed of multiple values. Here’s how to do it and the advantages it offers:\n",
    "\n",
    "### How to Use a Tuple as a Dictionary Key\n",
    "\n",
    "You can create a dictionary where the keys are tuples, allowing you to group related data together. Here’s an example:\n",
    "\n",
    "```python\n",
    "# Create a dictionary with tuples as keys\n",
    "coordinates = {\n",
    "    (1, 2): \"Location A\",\n",
    "    (3, 4): \"Location B\",\n",
    "    (5, 6): \"Location C\"\n",
    "}\n",
    "\n",
    "# Accessing values using tuple keys\n",
    "print(coordinates[(1, 2)])  # Output: Location A\n",
    "print(coordinates[(3, 4)])  # Output: Location B\n",
    "```\n",
    "\n",
    "### Advantages of Using Tuples as Dictionary Keys\n",
    "\n",
    "1. **Complex Keys**:\n",
    "   - Tuples allow you to combine multiple values into a single key. This can be useful for representing coordinates, dates, or composite identifiers.\n",
    "   - Example: Using (latitude, longitude) as a key for geographic data.\n",
    "\n",
    "2. **Immutability**:\n",
    "   - Since tuples are immutable, the keys remain constant throughout the program, ensuring the integrity of the dictionary's mapping.\n",
    "\n",
    "3. **Easy Grouping**:\n",
    "   - Grouping related data into a tuple provides a clear semantic meaning to the key, making the code more readable and maintainable.\n",
    "\n",
    "4. **Supports Multiple Data Types**:\n",
    "   - Tuples can contain mixed data types, allowing for flexible key definitions. For instance, a tuple key could combine a string (like a username) with an integer (like a user ID).\n",
    "\n",
    "### Example of Using Complex Keys\n",
    "\n",
    "Here’s an example where tuples serve as composite keys:\n",
    "\n",
    "```python\n",
    "# Create a dictionary to store user scores\n",
    "user_scores = {\n",
    "    (\"Alice\", 2023): 95,\n",
    "    (\"Bob\", 2023): 89,\n",
    "    (\"Alice\", 2024): 92\n",
    "}\n",
    "\n",
    "# Accessing scores using tuple keys\n",
    "print(user_scores[(\"Alice\", 2023)])  # Output: 95\n",
    "print(user_scores[(\"Bob\", 2023)])     # Output: 89\n",
    "```\n",
    "\n",
    "### Summary\n",
    "\n",
    "Using tuples as dictionary keys provides a powerful way to create complex, immutable identifiers that can enhance code clarity and organization. This technique is especially useful when you need to associate multiple pieces of related data in a single key."
   ]
  },
  {
   "cell_type": "markdown",
   "id": "7d3e1e21-c68b-4027-8920-60f07894d749",
   "metadata": {},
   "source": [
    "### 25 Python | Update each element in tuple list"
   ]
  },
  {
   "cell_type": "code",
   "execution_count": 30,
   "id": "1e4f6f49-f10d-4cec-b2fb-9a224705e232",
   "metadata": {},
   "outputs": [
    {
     "name": "stdout",
     "output_type": "stream",
     "text": [
      "Updated Tuple List: [(11, 12), (13, 14), (15, 16)]\n"
     ]
    }
   ],
   "source": [
    "# Original list of tuples\n",
    "tuple_list = [(1, 2), (3, 4), (5, 6)]\n",
    "\n",
    "# Update each element by adding 10 using map and lambda\n",
    "updated_tuple_list = list(map(lambda t: (t[0] + 10, t[1] + 10), tuple_list))\n",
    "\n",
    "# Print the updated list of tuples\n",
    "print(\"Updated Tuple List:\", updated_tuple_list)  # Output: Updated Tuple List: [(11, 12), (13, 14), (15, 16)]\n"
   ]
  },
  {
   "cell_type": "markdown",
   "id": "2ef9371c-6ff1-4cf6-8466-3e5c4bf84304",
   "metadata": {},
   "source": [
    "### 26 Python – Sort Tuples by Total digits"
   ]
  },
  {
   "cell_type": "code",
   "execution_count": null,
   "id": "615259f1-7f63-4dac-84f2-670612d55c88",
   "metadata": {},
   "outputs": [],
   "source": [
    "# Python3 code to demonstrate working of \n",
    "# Sort Tuples by Total digits\n",
    "# Using sorted() + lambda + sum() + len()\n",
    "\n",
    "# Initializing list\n",
    "test_list = [(3, 4, 6, 723), (1, 2), (12345,), (134, 234, 34)]\n",
    "\n",
    "# Printing original list\n",
    "print(\"The original list is : \" + str(test_list))\n",
    "\n",
    "# Performing sort, lambda function provides logic\n",
    "res = sorted(test_list, key=lambda tup: sum(len(str(ele)) for ele in tup))\n",
    "\n",
    "# Printing result \n",
    "print(\"Sorted tuples : \" + str(res))\n"
   ]
  },
  {
   "cell_type": "markdown",
   "id": "64d8befd-97ba-4144-9c34-1bba25e8ffb5",
   "metadata": {},
   "source": [
    "### 27 -Python – Elements frequency in Tuple"
   ]
  },
  {
   "cell_type": "code",
   "execution_count": 31,
   "id": "1ce569d6-828c-47b0-b641-952c300e6560",
   "metadata": {},
   "outputs": [
    {
     "name": "stdout",
     "output_type": "stream",
     "text": [
      "Element Frequency in Tuple: Counter({1: 3, 2: 2, 3: 1, 4: 1})\n"
     ]
    }
   ],
   "source": [
    "from collections import Counter\n",
    "\n",
    "# Create a tuple\n",
    "my_tuple = (1, 2, 3, 1, 2, 1, 4)\n",
    "\n",
    "# Use Counter to count the frequency of each element\n",
    "frequency = Counter(my_tuple)\n",
    "\n",
    "# Print the frequency of each element\n",
    "print(\"Element Frequency in Tuple:\", frequency)\n"
   ]
  },
  {
   "cell_type": "markdown",
   "id": "662f551c-1b44-4f22-b577-a202b27aec5d",
   "metadata": {},
   "source": [
    "### 28 Python | Removing duplicates from tuple"
   ]
  },
  {
   "cell_type": "code",
   "execution_count": 32,
   "id": "0504f714-4d25-451c-b7d4-c345bdb3789a",
   "metadata": {},
   "outputs": [
    {
     "name": "stdout",
     "output_type": "stream",
     "text": [
      "Tuple after removing duplicates: (1, 2, 3, 4, 5)\n"
     ]
    }
   ],
   "source": [
    "# Original tuple with duplicates\n",
    "my_tuple = (1, 2, 3, 2, 4, 1, 5)\n",
    "\n",
    "# Removing duplicates by converting to a set and back to a tuple\n",
    "unique_tuple = tuple(set(my_tuple))\n",
    "\n",
    "# Print the result\n",
    "print(\"Tuple after removing duplicates:\", unique_tuple)\n"
   ]
  }
 ],
 "metadata": {
  "kernelspec": {
   "display_name": "Python 3 (ipykernel)",
   "language": "python",
   "name": "python3"
  },
  "language_info": {
   "codemirror_mode": {
    "name": "ipython",
    "version": 3
   },
   "file_extension": ".py",
   "mimetype": "text/x-python",
   "name": "python",
   "nbconvert_exporter": "python",
   "pygments_lexer": "ipython3",
   "version": "3.11.5"
  },
  "widgets": {
   "application/vnd.jupyter.widget-state+json": {
    "state": {},
    "version_major": 2,
    "version_minor": 0
   }
  }
 },
 "nbformat": 4,
 "nbformat_minor": 5
}
